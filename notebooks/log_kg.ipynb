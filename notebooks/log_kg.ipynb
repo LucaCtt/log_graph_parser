{
 "cells": [
  {
   "cell_type": "code",
   "execution_count": 1,
   "metadata": {},
   "outputs": [
    {
     "name": "stdout",
     "output_type": "stream",
     "text": [
      "Executable\n",
      "File\n",
      "Host\n",
      "IPAddress\n",
      "LocalUser\n",
      "Process\n",
      "RootUser\n",
      "Socket\n",
      "SystemObject\n",
      "SystemUser\n",
      "User\n",
      "Technique\n"
     ]
    }
   ],
   "source": [
    "from rdflib import Graph, RDF, RDFS, OWL\n",
    "\n",
    "# Load the ontology\n",
    "g = Graph()\n",
    "g.parse(\"../ontologies/slogert.ttl\", format=\"turtle\")\n",
    "\n",
    "def get_local_name(uri):\n",
    "    if isinstance(uri, str) and (\"/\" in uri or \"#\" in uri):\n",
    "        return uri.split(\"/\")[-1].split(\"#\")[-1]  # Handles both \"/\" and \"#\" separators\n",
    "    return uri \n",
    "\n",
    "# Query for all classes (both owl:Class and rdfs:Class)\n",
    "query = \"\"\"\n",
    "    SELECT DISTINCT ?class WHERE {\n",
    "        { ?class a owl:Class . }\n",
    "        UNION\n",
    "        { ?class a rdfs:Class . }\n",
    "    }\n",
    "\"\"\"\n",
    "\n",
    "# Execute the query and print results\n",
    "classes = [get_local_name(str(row[0])) for row in g.query(query)]\n",
    "for c in classes:\n",
    "    print(c)"
   ]
  },
  {
   "cell_type": "code",
   "execution_count": 2,
   "metadata": {},
   "outputs": [
    {
     "name": "stdout",
     "output_type": "stream",
     "text": [
      "('Process', 'forks', 'Process')\n",
      "('Process', 'hasExe', 'Executable')\n",
      "('Host', 'hasHostIP', 'IPAddress')\n",
      "('Socket', 'hasSocketIP', 'IPAddress')\n",
      "('Process', 'hasUser', 'User')\n",
      "('File', 'isExecutedBy', 'Process')\n",
      "('File', 'isReadBy', 'Process')\n",
      "('Socket', 'isReceivedBy', 'Process')\n",
      "('Process', 'originatesFrom', 'Host')\n",
      "('SystemObject', 'provRel', 'SystemObject')\n",
      "('Process', 'sends', 'Socket')\n",
      "('Process', 'writes', 'File')\n"
     ]
    }
   ],
   "source": [
    "allowed_relations = []\n",
    "\n",
    "for s, p, o in g.triples((None, RDF.type, OWL.ObjectProperty)):\n",
    "    property_name = get_local_name(str(s))\n",
    "    \n",
    "    domain = None\n",
    "    range_ = None\n",
    "    \n",
    "    # Get domain\n",
    "    for _, _, d in g.triples((s, RDFS.domain, None)):\n",
    "        domain = get_local_name(str(d))\n",
    "    \n",
    "    # Get range\n",
    "    for _, _, r in g.triples((s, RDFS.range, None)):\n",
    "        range_ = get_local_name(str(r))\n",
    "    \n",
    "    # Store relation if both domain and range exist\n",
    "    if domain and range_:\n",
    "        allowed_relations.append((domain, property_name, range_))\n",
    "\n",
    "# Print extracted allowed relations\n",
    "for relation in allowed_relations:\n",
    "    print(relation)"
   ]
  },
  {
   "cell_type": "code",
   "execution_count": 3,
   "metadata": {},
   "outputs": [],
   "source": [
    "from langchain_experimental.graph_transformers import LLMGraphTransformer\n",
    "#from langchain_huggingface import ChatHuggingFace, HuggingFacePipeline\n",
    "from langchain_ollama import ChatOllama\n",
    "\n",
    "\"\"\"\n",
    "parser_pipeline = HuggingFacePipeline.from_model_id(\n",
    "    model_id=\"Qwen/Qwen2.5-Coder-14B-Instruct\",\n",
    "    task=\"text-generation\",\n",
    "    device=-1,\n",
    "    pipeline_kwargs={\n",
    "        \"max_new_tokens\": 2048,\n",
    "    },\n",
    ")\n",
    "llm = ChatHuggingFace(llm=parser_pipeline)\n",
    "\"\"\"\n",
    "\n",
    "llm = ChatOllama(model=\"qwen2.5-coder:14b\")\n",
    "\n",
    "llm_transformer = LLMGraphTransformer(\n",
    "    llm=llm, allowed_nodes=classes, allowed_relationships=allowed_relations\n",
    ")"
   ]
  },
  {
   "cell_type": "code",
   "execution_count": 4,
   "metadata": {},
   "outputs": [
    {
     "name": "stdout",
     "output_type": "stream",
     "text": [
      "2022-01-21 00:09:11 jhall/192.168.230.165:46011 TLS: soft reset sec=3308/3308 bytes=45748/-1 pkts=649/0\n",
      "2022-01-21 00:09:11 jhall/192.168.230.165:46011 VERIFY OK: depth=1, C=AT, ST=Vienna, L=Vienna, O=Some Organisation GmbH, CN=OpenVPN CA, emailAddress=admin@organisation.cyberrange.at\n",
      "2022-01-21 00:09:11 jhall/192.168.230.165:46011 VERIFY KU OK\n",
      "2022-01-21 00:09:11 jhall/192.168.230.165:46011 Validating certificate extended key usage\n",
      "2022-01-21 00:09:11 jhall/192.168.230.165:46011 ++ Certificate has EKU (str) TLS Web Client Authentication, expects TLS Web Client Authentication\n",
      "2022-01-21 00:09:11 jhall/192.168.230.165:46011 VERIFY EKU OK\n",
      "2022-01-21 00:09:11 jhall/192.168.230.165:46011 VERIFY OK: depth=0, CN=jhall\n",
      "2022-01-21 00:09:11 jhall/192.168.230.165:46011 peer info: IV_VER=2.4.4\n",
      "2022-01-21 00:09:11 jhall/192.168.230.165:46011 peer info: IV_PLAT=linux\n",
      "2022-01-21 00:09:11 jhall/192.168.230.165:46011 peer info: IV_PROTO=2\n",
      "2022-01-21 00:09:11 jhall/192.168.230.165:46011 peer info: IV_LZ4=1\n",
      "2022-01-21 00:09:11 jhall/192.168.230.165:46011 peer info: IV_LZ4v2=1\n",
      "2022-01-21 00:09:11 jhall/192.168.230.165:46011 peer info: IV_LZO=1\n",
      "2022-01-21 00:09:11 jhall/192.168.230.165:46011 peer info: IV_COMP_STUB=1\n",
      "2022-01-21 00:09:11 jhall/192.168.230.165:46011 peer info: IV_COMP_STUBv2=1\n",
      "2022-01-21 00:09:11 jhall/192.168.230.165:46011 peer info: IV_TCPNL=1\n",
      "2022-01-21 00:09:11 jhall/192.168.230.165:46011 Outgoing Data Channel: Cipher 'AES-256-CBC' initialized with 256 bit key\n",
      "2022-01-21 00:09:11 jhall/192.168.230.165:46011 Outgoing Data Channel: Using 160 bit message hash 'SHA1' for HMAC authentication\n",
      "2022-01-21 00:09:11 jhall/192.168.230.165:46011 Incoming Data Channel: Cipher 'AES-256-CBC' initialized with 256 bit key\n",
      "2022-01-21 00:09:11 jhall/192.168.230.165:46011 Incoming Data Channel: Using 160 bit message hash 'SHA1' for HMAC authentication\n",
      "2022-01-21 00:09:11 jhall/192.168.230.165:46011 Control Channel: TLSv1.3, cipher TLSv1.3 TLS_AES_256_GCM_SHA384, peer certificate: 4096 bit RSA, signature: RSA-SHA256\n",
      "2022-01-21 01:04:19 jhall/192.168.230.165:46011 TLS: soft reset sec=3308/3308 bytes=55900/-1 pkts=687/0\n",
      "2022-01-21 01:04:19 jhall/192.168.230.165:46011 VERIFY OK: depth=1, C=AT, ST=Vienna, L=Vienna, O=Some Organisation GmbH, CN=OpenVPN CA, emailAddress=admin@organisation.cyberrange.at\n",
      "2022-01-21 01:04:19 jhall/192.168.230.165:46011 VERIFY KU OK\n",
      "2022-01-21 01:04:19 jhall/192.168.230.165:46011 Validating certificate extended key usage\n",
      "2022-01-21 01:04:19 jhall/192.168.230.165:46011 ++ Certificate has EKU (str) TLS Web Client Authentication, expects TLS Web Client Authentication\n",
      "2022-01-21 01:04:19 jhall/192.168.230.165:46011 VERIFY EKU OK\n",
      "2022-01-21 01:04:19 jhall/192.168.230.165:46011 VERIFY OK: depth=0, CN=jhall\n",
      "2022-01-21 01:04:19 jhall/192.168.230.165:46011 peer info: IV_VER=2.4.4\n",
      "2022-01-21 01:04:19 jhall/192.168.230.165:46011 peer info: IV_PLAT=linux\n"
     ]
    }
   ],
   "source": [
    "import pandas as pd\n",
    "from langchain_core.documents import Document\n",
    "\n",
    "log_df = pd.read_csv(\"../data/test.csv\")\n",
    "document = Document(page_content=\"\\n\".join(log_df[\"text\"]))\n",
    "\n",
    "print(document.page_content)"
   ]
  },
  {
   "cell_type": "code",
   "execution_count": 5,
   "metadata": {},
   "outputs": [
    {
     "name": "stdout",
     "output_type": "stream",
     "text": [
      "Nodes:[]\n",
      "Relationships:[]\n"
     ]
    }
   ],
   "source": [
    "graph_documents = llm_transformer.convert_to_graph_documents([document])\n",
    "print(f\"Nodes:{graph_documents[0].nodes}\")\n",
    "print(f\"Relationships:{graph_documents[0].relationships}\")"
   ]
  }
 ],
 "metadata": {
  "kernelspec": {
   "display_name": "lcotti-conda",
   "language": "python",
   "name": "python3"
  },
  "language_info": {
   "codemirror_mode": {
    "name": "ipython",
    "version": 3
   },
   "file_extension": ".py",
   "mimetype": "text/x-python",
   "name": "python",
   "nbconvert_exporter": "python",
   "pygments_lexer": "ipython3",
   "version": "3.13.2"
  }
 },
 "nbformat": 4,
 "nbformat_minor": 2
}
